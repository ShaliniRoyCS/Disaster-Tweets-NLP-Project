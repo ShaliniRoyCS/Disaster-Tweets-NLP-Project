{
  "metadata": {
    "kernelspec": {
      "language": "python",
      "display_name": "Python 3",
      "name": "python3"
    },
    "language_info": {
      "name": "python",
      "version": "3.10.13",
      "mimetype": "text/x-python",
      "codemirror_mode": {
        "name": "ipython",
        "version": 3
      },
      "pygments_lexer": "ipython3",
      "nbconvert_exporter": "python",
      "file_extension": ".py"
    },
    "kaggle": {
      "accelerator": "none",
      "dataSources": [
        {
          "sourceId": 17777,
          "databundleVersionId": 869809,
          "sourceType": "competition"
        },
        {
          "sourceId": 6068,
          "sourceType": "modelInstanceVersion",
          "modelInstanceId": 4689
        }
      ],
      "dockerImageVersionId": 30732,
      "isInternetEnabled": true,
      "language": "python",
      "sourceType": "notebook",
      "isGpuEnabled": false
    },
    "colab": {
      "name": "Disaster Tweets NLP",
      "provenance": []
    }
  },
  "nbformat_minor": 0,
  "nbformat": 4,
  "cells": [
    {
      "source": [
        "\n",
        "# IMPORTANT: RUN THIS CELL IN ORDER TO IMPORT YOUR KAGGLE DATA SOURCES\n",
        "# TO THE CORRECT LOCATION (/kaggle/input) IN YOUR NOTEBOOK,\n",
        "# THEN FEEL FREE TO DELETE THIS CELL.\n",
        "# NOTE: THIS NOTEBOOK ENVIRONMENT DIFFERS FROM KAGGLE'S PYTHON\n",
        "# ENVIRONMENT SO THERE MAY BE MISSING LIBRARIES USED BY YOUR\n",
        "# NOTEBOOK.\n",
        "\n",
        "import os\n",
        "import sys\n",
        "from tempfile import NamedTemporaryFile\n",
        "from urllib.request import urlopen\n",
        "from urllib.parse import unquote, urlparse\n",
        "from urllib.error import HTTPError\n",
        "from zipfile import ZipFile\n",
        "import tarfile\n",
        "import shutil\n",
        "\n",
        "CHUNK_SIZE = 40960\n",
        "DATA_SOURCE_MAPPING = 'nlp-getting-started:https%3A%2F%2Fstorage.googleapis.com%2Fkaggle-competitions-data%2Fkaggle-v2%2F17777%2F869809%2Fbundle%2Farchive.zip%3FX-Goog-Algorithm%3DGOOG4-RSA-SHA256%26X-Goog-Credential%3Dgcp-kaggle-com%2540kaggle-161607.iam.gserviceaccount.com%252F20240705%252Fauto%252Fstorage%252Fgoog4_request%26X-Goog-Date%3D20240705T071439Z%26X-Goog-Expires%3D259200%26X-Goog-SignedHeaders%3Dhost%26X-Goog-Signature%3D0cdf74b9f0f329282192713a25441027daf5c70a5bdb032286b65162448f0311b729c990d33cd9740762875b82ea0fd9bc39553f7a26181a71e5fef2c68f88c12066e10300f16b806ea2fd30c383c2f4ff8d0fd131e7b56eb3cb6f874301e2d5f53703b2c7803eb5bf1d64bba8e42314c684906bae6a9991975284076fb04f9c7dd3fb48d7e71919479a6138339279fd509c4dbdedcd7bde550ae13718ec240425a2864d8744ee50ba42efd42c41cd2707ec881f856aa8ac5c1705015f6a345a1003b19bd2a1f6cd4b058703d593a1d65212127a61d21d930ee07de8eed01a586a142ce1459f9dbb45585e1104ce34e25818a58b960976d4469fdd6e35fa97dd,distil_bert/keras/distil_bert_base_en_uncased/2:https%3A%2F%2Fstorage.googleapis.com%2Fkaggle-models-data%2F4689%2F6068%2Fbundle%2Farchive.tar.gz%3FX-Goog-Algorithm%3DGOOG4-RSA-SHA256%26X-Goog-Credential%3Dgcp-kaggle-com%2540kaggle-161607.iam.gserviceaccount.com%252F20240705%252Fauto%252Fstorage%252Fgoog4_request%26X-Goog-Date%3D20240705T071440Z%26X-Goog-Expires%3D259200%26X-Goog-SignedHeaders%3Dhost%26X-Goog-Signature%3D17be917872b1b9a5e4fd45243a741bcdf3fa0f7e39d524a8cd6a5c7bffa64eeef29e8cd30cd887e6d55ec232bfb22d474a3f138079a8ca3300af651bc955d88d063c1ecfd86247dfbecbfb2fd392fba1910671701fd524508dc6591442343493920f0b00a4ce2b5b30a0e439cbc1f9eff1d84645f76aa3c45196ce5198a95a16891d471d7b6ae7ff2c8178dd339307f6e4e1c92975d6ab15e323194449ba3362fe4b0d0fa10d2d5019ce5bd1389271ba7448b43f2bd5025e372ca9851efb5b57990279a6fe212667760f4fe456217db64cf807d28b80a3f3629987c1d2979e24193d7a559d4199d7b6463f79f21ea2a72c1fb25db3e14f019c3fbcbe3c3c690f'\n",
        "\n",
        "KAGGLE_INPUT_PATH='/kaggle/input'\n",
        "KAGGLE_WORKING_PATH='/kaggle/working'\n",
        "KAGGLE_SYMLINK='kaggle'\n",
        "\n",
        "!umount /kaggle/input/ 2> /dev/null\n",
        "shutil.rmtree('/kaggle/input', ignore_errors=True)\n",
        "os.makedirs(KAGGLE_INPUT_PATH, 0o777, exist_ok=True)\n",
        "os.makedirs(KAGGLE_WORKING_PATH, 0o777, exist_ok=True)\n",
        "\n",
        "try:\n",
        "  os.symlink(KAGGLE_INPUT_PATH, os.path.join(\"..\", 'input'), target_is_directory=True)\n",
        "except FileExistsError:\n",
        "  pass\n",
        "try:\n",
        "  os.symlink(KAGGLE_WORKING_PATH, os.path.join(\"..\", 'working'), target_is_directory=True)\n",
        "except FileExistsError:\n",
        "  pass\n",
        "\n",
        "for data_source_mapping in DATA_SOURCE_MAPPING.split(','):\n",
        "    directory, download_url_encoded = data_source_mapping.split(':')\n",
        "    download_url = unquote(download_url_encoded)\n",
        "    filename = urlparse(download_url).path\n",
        "    destination_path = os.path.join(KAGGLE_INPUT_PATH, directory)\n",
        "    try:\n",
        "        with urlopen(download_url) as fileres, NamedTemporaryFile() as tfile:\n",
        "            total_length = fileres.headers['content-length']\n",
        "            print(f'Downloading {directory}, {total_length} bytes compressed')\n",
        "            dl = 0\n",
        "            data = fileres.read(CHUNK_SIZE)\n",
        "            while len(data) > 0:\n",
        "                dl += len(data)\n",
        "                tfile.write(data)\n",
        "                done = int(50 * dl / int(total_length))\n",
        "                sys.stdout.write(f\"\\r[{'=' * done}{' ' * (50-done)}] {dl} bytes downloaded\")\n",
        "                sys.stdout.flush()\n",
        "                data = fileres.read(CHUNK_SIZE)\n",
        "            if filename.endswith('.zip'):\n",
        "              with ZipFile(tfile) as zfile:\n",
        "                zfile.extractall(destination_path)\n",
        "            else:\n",
        "              with tarfile.open(tfile.name) as tarfile:\n",
        "                tarfile.extractall(destination_path)\n",
        "            print(f'\\nDownloaded and uncompressed: {directory}')\n",
        "    except HTTPError as e:\n",
        "        print(f'Failed to load (likely expired) {download_url} to path {destination_path}')\n",
        "        continue\n",
        "    except OSError as e:\n",
        "        print(f'Failed to load {download_url} to path {destination_path}')\n",
        "        continue\n",
        "\n",
        "print('Data source import complete.')\n"
      ],
      "metadata": {
        "id": "RANViodjvsqe"
      },
      "cell_type": "code",
      "outputs": [],
      "execution_count": null
    },
    {
      "cell_type": "code",
      "source": [
        "# This Python 3 environment comes with many helpful analytics libraries installed\n",
        "# It is defined by the kaggle/python Docker image: https://github.com/kaggle/docker-python\n",
        "# For example, here's several helpful packages to load\n",
        "\n",
        "import numpy as np # linear algebra\n",
        "import pandas as pd # data processing, CSV file I/O (e.g. pd.read_csv)\n",
        "\n",
        "# Input data files are available in the read-only \"../input/\" directory\n",
        "# For example, running this (by clicking run or pressing Shift+Enter) will list all files under the input directory\n",
        "\n",
        "import os\n",
        "for dirname, _, filenames in os.walk('/kaggle/input'):\n",
        "    for filename in filenames:\n",
        "        print(os.path.join(dirname, filename))\n",
        "\n",
        "# You can write up to 20GB to the current directory (/kaggle/working/) that gets preserved as output when you create a version using \"Save & Run All\"\n",
        "# You can also write temporary files to /kaggle/temp/, but they won't be saved outside of the current session"
      ],
      "metadata": {
        "_uuid": "8f2839f25d086af736a60e9eeb907d3b93b6e0e5",
        "_cell_guid": "b1076dfc-b9ad-4769-8c92-a6c4dae69d19",
        "execution": {
          "iopub.status.busy": "2024-06-17T09:04:53.706417Z",
          "iopub.execute_input": "2024-06-17T09:04:53.707393Z",
          "iopub.status.idle": "2024-06-17T09:04:54.826041Z",
          "shell.execute_reply.started": "2024-06-17T09:04:53.707349Z",
          "shell.execute_reply": "2024-06-17T09:04:54.824739Z"
        },
        "trusted": true,
        "id": "Dc16Ixlnvsqh"
      },
      "execution_count": null,
      "outputs": []
    },
    {
      "cell_type": "code",
      "source": [
        "!pip install keras-core --upgrade\n",
        "!pip install -q keras-nlp --upgrade\n",
        "\n",
        "# This sample uses Keras Core, the multi-backend version of Keras.\n",
        "# The selected backend is TensorFlow (other supported backends are 'jax' and 'torch')\n",
        "import os\n",
        "os.environ['KERAS_BACKEND'] = 'tensorflow'"
      ],
      "metadata": {
        "execution": {
          "iopub.status.busy": "2024-06-17T09:04:54.82824Z",
          "iopub.execute_input": "2024-06-17T09:04:54.828764Z",
          "iopub.status.idle": "2024-06-17T09:05:26.199462Z",
          "shell.execute_reply.started": "2024-06-17T09:04:54.828732Z",
          "shell.execute_reply": "2024-06-17T09:05:26.198067Z"
        },
        "trusted": true,
        "id": "3XjqjkWWvsqi"
      },
      "execution_count": null,
      "outputs": []
    },
    {
      "cell_type": "code",
      "source": [
        "# Import function libraries\n",
        "import seaborn as sns\n",
        "import matplotlib.pyplot as plt\n",
        "import numpy as np\n",
        "import pandas as pd\n",
        "import tensorflow as tf\n",
        "import keras_core as keras\n",
        "import keras_nlp\n",
        "from sklearn.metrics import ConfusionMatrixDisplay, confusion_matrix"
      ],
      "metadata": {
        "execution": {
          "iopub.status.busy": "2024-06-17T09:05:26.201174Z",
          "iopub.execute_input": "2024-06-17T09:05:26.201542Z",
          "iopub.status.idle": "2024-06-17T09:05:41.998187Z",
          "shell.execute_reply.started": "2024-06-17T09:05:26.201509Z",
          "shell.execute_reply": "2024-06-17T09:05:41.997043Z"
        },
        "trusted": true,
        "id": "OUrN-nm-vsqi"
      },
      "execution_count": null,
      "outputs": []
    },
    {
      "cell_type": "code",
      "source": [
        "df_train = pd.read_csv(\"/kaggle/input/nlp-getting-started/train.csv\")\n",
        "df_test = pd.read_csv(\"/kaggle/input/nlp-getting-started/test.csv\")\n"
      ],
      "metadata": {
        "execution": {
          "iopub.status.busy": "2024-06-17T09:05:47.04556Z",
          "iopub.execute_input": "2024-06-17T09:05:47.046284Z",
          "iopub.status.idle": "2024-06-17T09:05:47.12063Z",
          "shell.execute_reply.started": "2024-06-17T09:05:47.046248Z",
          "shell.execute_reply": "2024-06-17T09:05:47.11935Z"
        },
        "trusted": true,
        "id": "JVGqUoT-vsqi"
      },
      "execution_count": null,
      "outputs": []
    },
    {
      "cell_type": "markdown",
      "source": [
        "### Basic information about the data"
      ],
      "metadata": {
        "id": "GBNRIN5tvsqi"
      }
    },
    {
      "cell_type": "code",
      "source": [
        "print('Training Set Shape = {}'.format(df_train.shape))\n",
        "print('Training Set Memory Usage = {:.2f} MB'.format(df_train.memory_usage().sum() / 1024**2))\n",
        "print('Test Set Shape = {}'.format(df_test.shape))\n",
        "print('Test Set Memory Usage = {:.2f} MB'.format(df_test.memory_usage().sum() / 1024**2))\n"
      ],
      "metadata": {
        "execution": {
          "iopub.status.busy": "2024-06-17T09:05:53.759545Z",
          "iopub.execute_input": "2024-06-17T09:05:53.759977Z",
          "iopub.status.idle": "2024-06-17T09:05:53.778642Z",
          "shell.execute_reply.started": "2024-06-17T09:05:53.759945Z",
          "shell.execute_reply": "2024-06-17T09:05:53.777354Z"
        },
        "trusted": true,
        "id": "qCxO8Iqcvsqj"
      },
      "execution_count": null,
      "outputs": []
    },
    {
      "cell_type": "code",
      "source": [
        "# Visualize the target distribution\n",
        "sns.countplot(x='target', data=df_train)\n",
        "plt.title('Distribution of Target Variable')\n",
        "plt.show()"
      ],
      "metadata": {
        "execution": {
          "iopub.status.busy": "2024-06-17T09:05:55.280316Z",
          "iopub.execute_input": "2024-06-17T09:05:55.280702Z",
          "iopub.status.idle": "2024-06-17T09:05:55.537772Z",
          "shell.execute_reply.started": "2024-06-17T09:05:55.280674Z",
          "shell.execute_reply": "2024-06-17T09:05:55.536623Z"
        },
        "trusted": true,
        "id": "0UolnQj0vsqk"
      },
      "execution_count": null,
      "outputs": []
    },
    {
      "cell_type": "code",
      "source": [
        "# Visualize the length of tweets\n",
        "df_train['length'] = df_train['text'].apply(len)\n",
        "df_test['length'] = df_test['text'].apply(len)"
      ],
      "metadata": {
        "execution": {
          "iopub.status.busy": "2024-06-17T09:05:58.360321Z",
          "iopub.execute_input": "2024-06-17T09:05:58.361252Z",
          "iopub.status.idle": "2024-06-17T09:05:58.372791Z",
          "shell.execute_reply.started": "2024-06-17T09:05:58.361214Z",
          "shell.execute_reply": "2024-06-17T09:05:58.371533Z"
        },
        "trusted": true,
        "id": "q03kh7Davsqk"
      },
      "execution_count": null,
      "outputs": []
    },
    {
      "cell_type": "code",
      "source": [
        "sns.histplot(df_train['length'], bins=50, kde=True)\n",
        "plt.title('Distribution of Tweet Lengths in Training Set')\n",
        "plt.show()"
      ],
      "metadata": {
        "execution": {
          "iopub.status.busy": "2024-06-17T09:06:00.575115Z",
          "iopub.execute_input": "2024-06-17T09:06:00.575528Z",
          "iopub.status.idle": "2024-06-17T09:06:01.015833Z",
          "shell.execute_reply.started": "2024-06-17T09:06:00.575497Z",
          "shell.execute_reply": "2024-06-17T09:06:01.014528Z"
        },
        "trusted": true,
        "id": "ZlKicfTOvsqk"
      },
      "execution_count": null,
      "outputs": []
    },
    {
      "cell_type": "code",
      "source": [
        "sns.histplot(df_test['length'], bins=50, kde=True)\n",
        "plt.title('Distribution of Tweet Lengths in Test Set')\n",
        "plt.show()"
      ],
      "metadata": {
        "execution": {
          "iopub.status.busy": "2024-06-17T09:06:04.086634Z",
          "iopub.execute_input": "2024-06-17T09:06:04.087056Z",
          "iopub.status.idle": "2024-06-17T09:06:04.469283Z",
          "shell.execute_reply.started": "2024-06-17T09:06:04.087024Z",
          "shell.execute_reply": "2024-06-17T09:06:04.468063Z"
        },
        "trusted": true,
        "id": "YdCjhcM1vsql"
      },
      "execution_count": null,
      "outputs": []
    },
    {
      "cell_type": "markdown",
      "source": [
        "### Data Preprocessing"
      ],
      "metadata": {
        "id": "bIrSBrW8vsql"
      }
    },
    {
      "cell_type": "code",
      "source": [
        "# Pre-process the data\n",
        "batch_size = 32\n",
        "num_training_examples = df_train.shape[0]\n",
        "train_split = 0.8\n",
        "val_split = 0.2\n",
        "steps_per_epoch = int(num_training_examples) * train_split // batch_size\n",
        "\n",
        "epochs = 2\n",
        "auto = tf.data.experimental.AUTOTUNE"
      ],
      "metadata": {
        "execution": {
          "iopub.status.busy": "2024-06-17T09:09:58.232502Z",
          "iopub.execute_input": "2024-06-17T09:09:58.233472Z",
          "iopub.status.idle": "2024-06-17T09:09:58.240065Z",
          "shell.execute_reply.started": "2024-06-17T09:09:58.233415Z",
          "shell.execute_reply": "2024-06-17T09:09:58.238813Z"
        },
        "trusted": true,
        "id": "G8ujsdbEvsql"
      },
      "execution_count": null,
      "outputs": []
    },
    {
      "cell_type": "code",
      "source": [
        "from sklearn.model_selection import train_test_split\n"
      ],
      "metadata": {
        "execution": {
          "iopub.status.busy": "2024-06-17T09:10:51.429431Z",
          "iopub.execute_input": "2024-06-17T09:10:51.429862Z",
          "iopub.status.idle": "2024-06-17T09:10:51.450694Z",
          "shell.execute_reply.started": "2024-06-17T09:10:51.429831Z",
          "shell.execute_reply": "2024-06-17T09:10:51.449528Z"
        },
        "trusted": true,
        "id": "DQoo0zqavsql"
      },
      "execution_count": null,
      "outputs": []
    },
    {
      "cell_type": "code",
      "source": [
        "X = df_train[\"text\"]\n",
        "y = df_train[\"target\"]\n",
        "\n",
        "X_train, X_val, y_train, y_val = train_test_split(X, y, test_size=val_split, random_state=42)\n",
        "\n",
        "X_test = df_test[\"text\"]"
      ],
      "metadata": {
        "execution": {
          "iopub.status.busy": "2024-06-17T09:10:53.37702Z",
          "iopub.execute_input": "2024-06-17T09:10:53.377482Z",
          "iopub.status.idle": "2024-06-17T09:10:53.389473Z",
          "shell.execute_reply.started": "2024-06-17T09:10:53.377426Z",
          "shell.execute_reply": "2024-06-17T09:10:53.388433Z"
        },
        "trusted": true,
        "id": "yQGljzo2vsql"
      },
      "execution_count": null,
      "outputs": []
    },
    {
      "cell_type": "markdown",
      "source": [
        "### DistilBERT model from KerasNLP"
      ],
      "metadata": {
        "id": "BI4VZTO4vsql"
      }
    },
    {
      "cell_type": "code",
      "source": [
        "# Load a DistilBERT model from KerasNLP\n",
        "preset = \"distil_bert_base_en_uncased\"\n",
        "\n",
        "# Assign shorter sequence length\n",
        "preprocessor = keras_nlp.models.DistilBertPreprocessor.from_preset(\n",
        "    preset,\n",
        "    sequence_length=160,\n",
        "    name=\"preprocessor_4_tweets\"\n",
        ")\n",
        "\n",
        "# Assign pre-trained classifier\n",
        "classifier = keras_nlp.models.DistilBertClassifier.from_preset(\n",
        "    preset,\n",
        "    preprocessor=preprocessor,\n",
        "    num_classes=2\n",
        ")\n",
        "\n",
        "classifier.summary()"
      ],
      "metadata": {
        "execution": {
          "iopub.status.busy": "2024-06-17T09:11:19.18763Z",
          "iopub.execute_input": "2024-06-17T09:11:19.188327Z",
          "iopub.status.idle": "2024-06-17T09:11:42.090378Z",
          "shell.execute_reply.started": "2024-06-17T09:11:19.188294Z",
          "shell.execute_reply": "2024-06-17T09:11:42.089243Z"
        },
        "trusted": true,
        "id": "ooJm0sUFvsql"
      },
      "execution_count": null,
      "outputs": []
    },
    {
      "cell_type": "markdown",
      "source": [
        "### Model Training"
      ],
      "metadata": {
        "id": "RIYPkJnyvsqm"
      }
    },
    {
      "cell_type": "code",
      "source": [
        "# 1st step: Compile\n",
        "classifier.compile(\n",
        "    loss=tf.keras.losses.SparseCategoricalCrossentropy(from_logits=True),\n",
        "    optimizer=tf.keras.optimizers.Adam(1e-5),\n",
        "    metrics=[\"accuracy\"]\n",
        ")\n",
        "\n",
        "# 2nd step: Fit\n",
        "history = classifier.fit(\n",
        "    x=X_train,\n",
        "    y=y_train,\n",
        "    batch_size=batch_size,\n",
        "    epochs=epochs,\n",
        "    validation_data=(X_val, y_val)\n",
        ")"
      ],
      "metadata": {
        "execution": {
          "iopub.status.busy": "2024-06-17T09:12:22.78633Z",
          "iopub.execute_input": "2024-06-17T09:12:22.787354Z",
          "iopub.status.idle": "2024-06-17T10:48:58.390627Z",
          "shell.execute_reply.started": "2024-06-17T09:12:22.787316Z",
          "shell.execute_reply": "2024-06-17T10:48:58.389091Z"
        },
        "trusted": true,
        "id": "9LevExc2vsqm"
      },
      "execution_count": null,
      "outputs": []
    },
    {
      "cell_type": "code",
      "source": [
        "# Print the accuracy result\n",
        "# Extracting the training and validation accuracy from the history object\n",
        "train_accuracy = history.history['accuracy']\n",
        "val_accuracy = history.history['val_accuracy']\n",
        "\n",
        "# Printing the final training and validation accuracy\n",
        "print(f\"Final Training Accuracy: {train_accuracy[-1]:.4f}\")\n",
        "print(f\"Final Validation Accuracy: {val_accuracy[-1]:.4f}\")"
      ],
      "metadata": {
        "execution": {
          "iopub.status.busy": "2024-06-17T11:21:26.2327Z",
          "iopub.execute_input": "2024-06-17T11:21:26.233217Z",
          "iopub.status.idle": "2024-06-17T11:21:26.240389Z",
          "shell.execute_reply.started": "2024-06-17T11:21:26.233181Z",
          "shell.execute_reply": "2024-06-17T11:21:26.239278Z"
        },
        "trusted": true,
        "id": "WiQumcSCvsqm"
      },
      "execution_count": null,
      "outputs": []
    },
    {
      "cell_type": "code",
      "source": [
        "# Define confusion matrix function\n",
        "def displayConfusionMatrix(y_true, y_pred, dataset):\n",
        "    disp = ConfusionMatrixDisplay.from_predictions(\n",
        "        y_true,\n",
        "        np.argmax(y_pred, axis=1),\n",
        "        display_labels=[\"Non-disaster\", \"Disaster\"],\n",
        "        cmap=plt.cm.Purples\n",
        "    )\n",
        "\n",
        "    tn, fp, fn, tp = confusion_matrix(y_true, np.argmax(y_pred, axis=1)).ravel()\n",
        "\n",
        "    f1_score = tp / (tp + ((fn + fp) / 2))\n",
        "\n",
        "    disp.ax_.set_title(\"Confusion matrix on \" + dataset + \" Dataset -- F1 Score: \" + str(f1_score.round(2)))\n",
        "    plt.show()  # Ensure the plot is displayed"
      ],
      "metadata": {
        "execution": {
          "iopub.status.busy": "2024-06-17T10:50:28.937937Z",
          "iopub.execute_input": "2024-06-17T10:50:28.938359Z",
          "iopub.status.idle": "2024-06-17T10:50:28.946183Z",
          "shell.execute_reply.started": "2024-06-17T10:50:28.938331Z",
          "shell.execute_reply": "2024-06-17T10:50:28.944714Z"
        },
        "trusted": true,
        "id": "xR7TNpuSvsqm"
      },
      "execution_count": null,
      "outputs": []
    },
    {
      "cell_type": "code",
      "source": [
        "y_pred_train = classifier.predict(X_train)\n",
        "\n",
        "displayConfusionMatrix(y_train, y_pred_train, \"Training\")"
      ],
      "metadata": {
        "execution": {
          "iopub.status.busy": "2024-06-17T10:50:51.54425Z",
          "iopub.execute_input": "2024-06-17T10:50:51.544654Z",
          "iopub.status.idle": "2024-06-17T11:03:08.350246Z",
          "shell.execute_reply.started": "2024-06-17T10:50:51.544623Z",
          "shell.execute_reply": "2024-06-17T11:03:08.348536Z"
        },
        "trusted": true,
        "id": "9Gl8tRghvsqm"
      },
      "execution_count": null,
      "outputs": []
    },
    {
      "cell_type": "code",
      "source": [
        "y_pred_val = classifier.predict(X_val)\n",
        "\n",
        "displayConfusionMatrix(y_val, y_pred_val, \"Validation\")"
      ],
      "metadata": {
        "execution": {
          "iopub.status.busy": "2024-06-17T11:03:25.128628Z",
          "iopub.execute_input": "2024-06-17T11:03:25.129112Z",
          "iopub.status.idle": "2024-06-17T11:06:32.531603Z",
          "shell.execute_reply.started": "2024-06-17T11:03:25.129072Z",
          "shell.execute_reply": "2024-06-17T11:06:32.530518Z"
        },
        "trusted": true,
        "id": "RlO8wGy8vsqm"
      },
      "execution_count": null,
      "outputs": []
    },
    {
      "cell_type": "markdown",
      "source": [
        "### Submission File"
      ],
      "metadata": {
        "id": "kGJ_jMFFvsqm"
      }
    },
    {
      "cell_type": "code",
      "source": [
        "sample_submission = pd.read_csv(\"/kaggle/input/nlp-getting-started/sample_submission.csv\")\n",
        "\n",
        "sample_submission.head()"
      ],
      "metadata": {
        "execution": {
          "iopub.status.busy": "2024-06-17T11:07:09.115673Z",
          "iopub.execute_input": "2024-06-17T11:07:09.116118Z",
          "iopub.status.idle": "2024-06-17T11:07:09.150672Z",
          "shell.execute_reply.started": "2024-06-17T11:07:09.116084Z",
          "shell.execute_reply": "2024-06-17T11:07:09.149247Z"
        },
        "trusted": true,
        "id": "NKtkDyLovsqm"
      },
      "execution_count": null,
      "outputs": []
    },
    {
      "cell_type": "code",
      "source": [
        "sample_submission[\"target\"] = np.argmax(classifier.predict(X_test), axis=1)\n",
        "\n"
      ],
      "metadata": {
        "execution": {
          "iopub.status.busy": "2024-06-17T11:14:22.242025Z",
          "iopub.execute_input": "2024-06-17T11:14:22.242972Z",
          "iopub.status.idle": "2024-06-17T11:20:59.56706Z",
          "shell.execute_reply.started": "2024-06-17T11:14:22.242932Z",
          "shell.execute_reply": "2024-06-17T11:20:59.565827Z"
        },
        "trusted": true,
        "id": "SLvGi37vvsqm"
      },
      "execution_count": null,
      "outputs": []
    },
    {
      "cell_type": "code",
      "source": [
        "sample_submission.to_csv(\"submission.csv\", index=False)"
      ],
      "metadata": {
        "execution": {
          "iopub.status.busy": "2024-06-17T11:21:02.045987Z",
          "iopub.execute_input": "2024-06-17T11:21:02.046455Z",
          "iopub.status.idle": "2024-06-17T11:21:02.058795Z",
          "shell.execute_reply.started": "2024-06-17T11:21:02.046403Z",
          "shell.execute_reply": "2024-06-17T11:21:02.057549Z"
        },
        "trusted": true,
        "id": "ZLSAaklzvsqm"
      },
      "execution_count": null,
      "outputs": []
    },
    {
      "cell_type": "code",
      "source": [],
      "metadata": {
        "id": "RCTB6BtTvsqm"
      },
      "execution_count": null,
      "outputs": []
    }
  ]
}